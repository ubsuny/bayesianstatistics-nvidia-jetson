{
 "cells": [
  {
   "cell_type": "markdown",
   "id": "accompanied-usage",
   "metadata": {},
   "source": [
    "# Problem 1: Bayesian COVID Pool Testing \n",
    "\n",
    "We seek to determine what the probability of being COVID positive if your weekly pool test shows a positive result.  \n",
    "\n",
    "Bayes Theorem:\n",
    "$$\n",
    "P(A|B) = \\frac{P(B|A) P(A)}{P(B)}\n",
    "$$\n",
    "- $P(A|B)$: Posterior Probability - Probability of event A occuring given B is true\n",
    "- $P(B|A)$: Conditional Probability - Probability of event B occuring given A is true\n",
    "- $P(A)$: A priori probability that event A occurs\n",
    "- $P(B)$: A priori probability that event B occurs\n",
    "\n",
    "For the COVID Pool test:\n",
    "- $P(A)$: Probability of an individual having COVID\n",
    "- $P(B)$: Probability of a pool test returning positive result\n",
    "- $P(A|B)$: Probability of an individual having COVID given a positive pool test\n",
    "- $P(B|A)$: Probability of a pool test being positive given a COVID positive student in the pool.\n",
    "\n",
    "We don't have values for $P(B)$ so we rewrite Bayes theorem as,\n",
    "$$\n",
    "P(A|B) = \\frac{P(B|A) P(A)}{P(B|A) P(A) + P(B|A^c) P(A^c)}\n",
    "$$\n",
    "where,\n",
    "- $P(A^c)$: Probability of an individual **not** have COVID\n",
    "- $P(B|A^c)$: Probability of a pool test returning a positive result given the individual does not have COVID.  This implies some or all of the other people in the pool are COVID positive *except* the individual A. \n",
    "\n",
    "We assume,\n",
    "- $P(A_B)$ = 1 -> if at least one person in the pool is positive, the pool test should return a positive result\n",
    "- $P(A)$ = 1/76 -> 1 in every 76 people in Erie County is infected with COVID (19andMe), and\n",
    "- $P(A^c)$ = 1 - 1/76.\n",
    "\n",
    "The last unknown probability that is needed for this calculation $P(B|A^c)$.  This can be calculated with a Binomial Distribution,\n",
    "\n",
    "$$\n",
    "\\begin{aligned}\n",
    "P(x;p,n)&=\\binom{n}{x} (p)^x (1-p)^{n-x} \\;\\; for \\, x = 0,1,2,...,n \\\\\n",
    "&=\\frac{n!}{x!(n-x)!} (P(A))^x (1-P(A))^{n-x}\n",
    "\\end{aligned}\n",
    "$$\n",
    "In each pool, there are 12 samples so we set n=12.\n",
    "\n",
    "\n",
    "Alternatively, the website 19andMe has a personal risk calculator.  For me, the risk of contracting COVID is,\n",
    "- $P(A)_{alt}$ = 0.0002.\n",
    "\n",
    "We will use both values for $P(A)$ \n",
    "\n",
    "\n",
    "\n",
    "References:\n",
    "- https://19andme.covid19.mathematica.org/"
   ]
  },
  {
   "cell_type": "code",
   "execution_count": 15,
   "id": "frequent-uruguay",
   "metadata": {},
   "outputs": [],
   "source": [
    "import numpy\n",
    "import tensorflow as tf\n",
    "import tensorflow_probability as tfp"
   ]
  },
  {
   "cell_type": "markdown",
   "id": "subsequent-business",
   "metadata": {},
   "source": [
    "### P(A|B) for Average Erie Citizen"
   ]
  },
  {
   "cell_type": "code",
   "execution_count": 46,
   "id": "architectural-rwanda",
   "metadata": {},
   "outputs": [],
   "source": [
    "n = 12 # Number of people in a test pool\n",
    "P_A = 1/76 # Probability of an individual testing positive for Covid\n",
    "P_B = 1 - P_A\n",
    "P_BA = 1"
   ]
  },
  {
   "cell_type": "code",
   "execution_count": 47,
   "id": "elder-intelligence",
   "metadata": {},
   "outputs": [],
   "source": [
    "Bin = tfp.distributions.Binomial(n, logits=None, probs=P_A)\n",
    "\n",
    "P_BAc = 0\n",
    "for i in range(1,n-1):\n",
    "    P_BAc = P_BAc + Bin.prob(i)\n",
    "    \n",
    "P_AB = (P_BA * P_A )/((P_BA*P_A)+(P_BAc*P_B))"
   ]
  },
  {
   "cell_type": "markdown",
   "id": "pediatric-projector",
   "metadata": {},
   "source": [
    "### P(A|B) for Me"
   ]
  },
  {
   "cell_type": "code",
   "execution_count": 31,
   "id": "floral-sixth",
   "metadata": {},
   "outputs": [],
   "source": [
    "P_A_alt = 0.0002\n",
    "P_B_alt = 1 - P_A_alt"
   ]
  },
  {
   "cell_type": "code",
   "execution_count": 36,
   "id": "independent-tablet",
   "metadata": {},
   "outputs": [],
   "source": [
    "Bin_alt = tfp.distributions.Binomial(n, logits=None, probs=P_A_alt)\n",
    "P_BAc_alt = 0\n",
    "for i in range(1,n-1):\n",
    "    P_BAc_alt = P_BAc_alt + Bin_alt.prob(i)\n",
    "    \n",
    "P_AB_alt = (P_BA * P_A_alt )/((P_BA * P_A_alt) + (P_BAc_alt * P_B_alt))"
   ]
  },
  {
   "cell_type": "markdown",
   "id": "capital-stockholm",
   "metadata": {},
   "source": [
    "## Results"
   ]
  },
  {
   "cell_type": "code",
   "execution_count": 45,
   "id": "aware-console",
   "metadata": {},
   "outputs": [
    {
     "name": "stdout",
     "output_type": "stream",
     "text": [
      "Average Erie County Resident:\n",
      "P(A) = 1.32[%]: P(A|B) =  8.31835365 [%]\n",
      "\n",
      "Personal Risk:\n",
      "P(A) = 0.02[%]: P(A|B) =  7.70153618 [%]\n"
     ]
    }
   ],
   "source": [
    "print(\"Average Erie County Resident:\")\n",
    "tf.print(\"P(A) = 1.32[%]: P(A|B) = \",P_AB*100,\"[%]\\n\")\n",
    "print(\"Personal Risk:\")\n",
    "tf.print(\"P(A) = 0.02[%]: P(A|B) = \",P_AB_alt*100,\"[%]\")"
   ]
  }
 ],
 "metadata": {
  "kernelspec": {
   "display_name": "Python 3",
   "language": "python",
   "name": "python3"
  },
  "language_info": {
   "codemirror_mode": {
    "name": "ipython",
    "version": 3
   },
   "file_extension": ".py",
   "mimetype": "text/x-python",
   "name": "python",
   "nbconvert_exporter": "python",
   "pygments_lexer": "ipython3",
   "version": "3.9.2"
  }
 },
 "nbformat": 4,
 "nbformat_minor": 5
}
